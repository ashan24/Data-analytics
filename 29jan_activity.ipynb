{
 "cells": [
  {
   "cell_type": "code",
   "execution_count": 1,
   "metadata": {},
   "outputs": [],
   "source": [
    "import pandas as pd\n",
    "import numpy as np\n",
    "import matplotlib.pyplot as plt\n",
    "import seaborn as sns\n"
   ]
  },
  {
   "cell_type": "code",
   "execution_count": 16,
   "metadata": {},
   "outputs": [
    {
     "name": "stdout",
     "output_type": "stream",
     "text": [
      "              area_type   availability       size  society total_sqft  bath  \\\n",
      "0  Super built-up  Area         19-Dec      2 BHK  Coomee        1056   2.0   \n",
      "1            Plot  Area  Ready To Move  4 Bedroom  Theanmp       2600   5.0   \n",
      "2        Built-up  Area  Ready To Move      3 BHK      NaN       1440   2.0   \n",
      "3  Super built-up  Area  Ready To Move      3 BHK  Soiewre       1521   3.0   \n",
      "4  Super built-up  Area  Ready To Move      2 BHK      NaN       1200   2.0   \n",
      "\n",
      "   balcony   price    site_location  \n",
      "0      1.0   39.07      Alandi Road  \n",
      "1      3.0  120.00  Ambegaon Budruk  \n",
      "2      3.0   62.00       Anandnagar  \n",
      "3      1.0   95.00            Aundh  \n",
      "4      1.0   51.00       Aundh Road  \n"
     ]
    }
   ],
   "source": [
    "df = pd.read_csv('House_Data.csv')\n",
    "\n",
    "# Display the first few rows\n",
    "print(df.head())"
   ]
  },
  {
   "cell_type": "code",
   "execution_count": 17,
   "metadata": {},
   "outputs": [
    {
     "name": "stdout",
     "output_type": "stream",
     "text": [
      "11\n"
     ]
    }
   ],
   "source": [
    "\n",
    "print(df.duplicated().sum())\n",
    "df = df.drop_duplicates()"
   ]
  },
  {
   "cell_type": "code",
   "execution_count": 18,
   "metadata": {},
   "outputs": [
    {
     "name": "stdout",
     "output_type": "stream",
     "text": [
      "0\n",
      "area_type           0\n",
      "availability        0\n",
      "size               16\n",
      "society          5495\n",
      "total_sqft          0\n",
      "bath               73\n",
      "balcony           609\n",
      "price               0\n",
      "site_location       1\n",
      "dtype: int64\n"
     ]
    }
   ],
   "source": [
    "# Checking duplicated value removed or not\n",
    "print(df.duplicated().sum())\n",
    "print(df.isnull().sum())"
   ]
  },
  {
   "cell_type": "code",
   "execution_count": 25,
   "metadata": {},
   "outputs": [],
   "source": [
    "\n",
    "df[['site_location','society','size']] = df[['site_location','society','size']].fillna('N/A')\n",
    "\n",
    "  # Verifying if missing values are handled"
   ]
  },
  {
   "cell_type": "code",
   "execution_count": 32,
   "metadata": {},
   "outputs": [
    {
     "name": "stdout",
     "output_type": "stream",
     "text": [
      "area_type                           0\n",
      "availability                        0\n",
      "size                                0\n",
      "society                             0\n",
      "total_sqft                          0\n",
      "bath                               73\n",
      "balcony                           609\n",
      "price                               0\n",
      "site_location                       0\n",
      "(site_location, society, size)      0\n",
      "dtype: int64\n"
     ]
    },
    {
     "data": {
      "text/plain": [
       "area_type                         0\n",
       "availability                      0\n",
       "size                              0\n",
       "society                           0\n",
       "total_sqft                        0\n",
       "bath                              0\n",
       "balcony                           0\n",
       "price                             0\n",
       "site_location                     0\n",
       "(site_location, society, size)    0\n",
       "dtype: int64"
      ]
     },
     "execution_count": 32,
     "metadata": {},
     "output_type": "execute_result"
    }
   ],
   "source": [
    "# Imputing missing values with the median\n",
    "\n",
    "print(df.isnull().sum())\n",
    "# median = df[['bath','balcony']].median()\n",
    "df[['bath','balcony']] = df[['bath','balcony']].fillna(df[['bath','balcony']].median())\n",
    "df.isnull().sum()"
   ]
  },
  {
   "cell_type": "code",
   "execution_count": 33,
   "metadata": {},
   "outputs": [
    {
     "data": {
      "image/png": "[encoded data removed]",
      "text/plain": [
       "<Figure size 1000x500 with 1 Axes>"
      ]
     },
     "metadata": {},
     "output_type": "display_data"
    }
   ],
   "source": [
    "# Using Boxplot to visually identify outliers\n",
    "plt.figure(figsize=(10, 5))\n",
    "sns.boxplot(data=df)\n",
    "plt.show()"
   ]
  },
  {
   "cell_type": "code",
   "execution_count": 41,
   "metadata": {},
   "outputs": [
    {
     "name": "stdout",
     "output_type": "stream",
     "text": [
      "111\n"
     ]
    }
   ],
   "source": [
    "numeric_cols = df.select_dtypes(include=['number'])\n",
    "Q1 = numeric_cols.quantile(0.05)\n",
    "Q3 = numeric_cols.quantile(0.95)\n",
    "IQR = Q3 - Q1\n",
    "outliers = ((numeric_cols < (Q1 - 1.5 * IQR)) | (numeric_cols > (Q3 + 1.5 * IQR)))\n",
    "print(outliers.sum().sum())\n",
    "# df[outliers].dropna()"
   ]
  }
 ],
 "metadata": {
  "kernelspec": {
   "display_name": "Python 3",
   "language": "python",
   "name": "python3"
  },
  "language_info": {
   "codemirror_mode": {
    "name": "ipython",
    "version": 3
   },
   "file_extension": ".py",
   "mimetype": "text/x-python",
   "name": "python",
   "nbconvert_exporter": "python",
   "pygments_lexer": "ipython3",
   "version": "3.13.1"
  }
 },
 "nbformat": 4,
 "nbformat_minor": 2
}
